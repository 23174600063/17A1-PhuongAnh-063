{
 "cells": [
  {
   "cell_type": "code",
   "execution_count": 2,
   "metadata": {},
   "outputs": [
    {
     "name": "stdout",
     "output_type": "stream",
     "text": [
      "{\"name\": \"Phsnh\", \"age\": 2005, \"school\": \"uneti\"}\n"
     ]
    }
   ],
   "source": [
    "import json\n",
    "\n",
    "# đối tượng\n",
    "ttin = {\n",
    "    \"name\": \"Phsnh\",\n",
    "    \"age\": 2005,\n",
    "    \"school\": \"uneti\"\n",
    "}\n",
    "\n",
    "# py -> json\n",
    "json_str = json.dumps(ttin)\n",
    "\n",
    "print(json_str)"
   ]
  }
 ],
 "metadata": {
  "kernelspec": {
   "display_name": "Python 3",
   "language": "python",
   "name": "python3"
  },
  "language_info": {
   "codemirror_mode": {
    "name": "ipython",
    "version": 3
   },
   "file_extension": ".py",
   "mimetype": "text/x-python",
   "name": "python",
   "nbconvert_exporter": "python",
   "pygments_lexer": "ipython3",
   "version": "3.12.3"
  }
 },
 "nbformat": 4,
 "nbformat_minor": 2
}
