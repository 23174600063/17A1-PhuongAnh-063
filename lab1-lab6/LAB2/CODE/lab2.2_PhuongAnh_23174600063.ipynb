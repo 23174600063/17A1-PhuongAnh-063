{
 "cells": [
  {
   "cell_type": "markdown",
   "metadata": {},
   "source": [
    "### 1.Đọc dữ liệu từ file csv\n"
   ]
  },
  {
   "cell_type": "markdown",
   "metadata": {},
   "source": [
    "### a. Đọc dữ liệu điểm từ file csv \n"
   ]
  },
  {
   "cell_type": "code",
   "execution_count": 15,
   "metadata": {},
   "outputs": [
    {
     "data": {
      "text/plain": [
       "[[3.04, 3.39, 6.7],\n",
       " [5.8, 6.41, 6.62],\n",
       " [2.59, 3.57, 9.16],\n",
       " [3.81, 8.78, 9.24],\n",
       " [8.91, 9.64, 6.39]]"
      ]
     },
     "execution_count": 15,
     "metadata": {},
     "output_type": "execute_result"
    }
   ],
   "source": [
    "import csv\n",
    "\n",
    "#Đọc file CSV và lưu trữ dữu liệu vào một list\n",
    "file_path = 'D:/17a1dhkl/DHKL17A1HN/LAB2/DATA/diem_hoc_phan.csv'\n",
    "data = []\n",
    "\n",
    "with open(file_path, newline='', encoding='utf-8') as csvfile:\n",
    "    reader = csv.reader(csvfile)\n",
    "    next(reader)  # Bỏ qua hàng đầu tiên (tiêu đề cột)\n",
    "    '''\n",
    "    Xử lý dữ liệu từ Mỗi hàng: Với mỗi hàng row trong file csv\n",
    "    code sẽ lấy phần tử chỉ số thứ 2 trở đi (row[2:]).\n",
    "    Điều này tương ứng với việc bỏ qua cột 'id' và 'tên sinh viên ',\n",
    "    '''\n",
    "    for row in reader:\n",
    "        #Chuyển đổi điểm số từ string sang float và thêm vào list\n",
    "        data.append([float(score) for score in row[2:]])\n",
    "\n",
    "#Hiển thị một phần của dữ liệu để kiểm tra\n",
    "data[:5]  # hiển thị 5 dòng đầu tiên\n",
    "\n"
   ]
  },
  {
   "cell_type": "markdown",
   "metadata": {},
   "source": [
    "### b.Chuyển đổi list data thành mảng numpy"
   ]
  },
  {
   "cell_type": "code",
   "execution_count": 16,
   "metadata": {},
   "outputs": [
    {
     "data": {
      "text/plain": [
       "array([[3.04, 3.39, 6.7 ],\n",
       "       [5.8 , 6.41, 6.62],\n",
       "       [2.59, 3.57, 9.16],\n",
       "       [3.81, 8.78, 9.24],\n",
       "       [8.91, 9.64, 6.39]])"
      ]
     },
     "execution_count": 16,
     "metadata": {},
     "output_type": "execute_result"
    }
   ],
   "source": [
    "import numpy as np\n",
    "\n",
    "# chuyển list thành mảng numpy\n",
    "diem_np_array = np.array(data)\n",
    "# hiển thị một phần của mảng để kiếm tra\n",
    "diem_np_array[:5]  # hiển thị 5 dòng đầu tiên của numpy"
   ]
  },
  {
   "cell_type": "markdown",
   "metadata": {},
   "source": [
    "### 2. Qui đổi từ thang điểm 10 sang tín chỉ."
   ]
  },
  {
   "cell_type": "code",
   "execution_count": null,
   "metadata": {},
   "outputs": [],
   "source": [
    "def chuyen_diem(score):\n",
    "    # chuyển  đổi điểm số sang điểmm chữ theo tiêu chí đã cho\n",
    "    if 8.5 <= score <= 10:\n",
    "        return 'A'\n",
    "    elif 8.0 <= score < 8.5:\n",
    "        return 'B+'\n",
    "    elif 7.0 <= score < 8.0:\n",
    "        return 'B'\n",
    "    elif 6.5 <= score < 7.0:\n",
    "        return 'C+'\n",
    "    elif 5.5 <= score < 6.5:\n",
    "        return 'C'\n",
    "    elif 5.0 <= score < 5.5:\n",
    "        return 'D+'\n",
    "    elif 4.0 <= score < 5.0:\n",
    "        return 'D'\n",
    "    else:\n",
    "        return 'F'\n",
    "    "
   ]
  },
  {
   "cell_type": "markdown",
   "metadata": {},
   "source": [
    "### 3. Chia tách dữ liệu theo điểm số của mỗi học phần riêng biệt"
   ]
  },
  {
   "cell_type": "code",
   "execution_count": 22,
   "metadata": {},
   "outputs": [
    {
     "name": "stdout",
     "output_type": "stream",
     "text": [
      "[3.04 5.8  2.59 3.81 8.91 3.23 2.35 2.48 3.23 7.02 2.29 3.51 6.74 9.86\n",
      " 8.04 2.74 3.04 5.87 8.46 3.74 5.67 8.12 9.4  3.91 4.26 4.41 3.23 9.25\n",
      " 6.08 3.85] HP1\n",
      "[3.39 6.41 3.57 8.78 9.64 4.72 3.29 3.81 2.61 9.01 4.48 7.19 7.78 4.64\n",
      " 5.12 8.88 6.88 4.41 2.63 6.71 8.05 2.46 5.31 5.09 5.78 2.66 8.3  8.29\n",
      " 2.67 7.71] HP2\n",
      "[6.7  6.62 9.16 9.24 6.39 6.17 6.89 4.84 4.52 9.15 5.51 5.13 6.19 3.33\n",
      " 4.77 5.8  3.91 8.84 4.91 3.44 6.03 3.87 5.13 8.82 8.14 5.4  8.64 9.1\n",
      " 6.39 5.75] HP3\n"
     ]
    }
   ],
   "source": [
    "# Chia tách dữ liệu theo học phần\n",
    "hp1 = diem_np_array[:, 0]  # Điểm HP1\n",
    "hp2 = diem_np_array[:, 1]  # Điểm HP2\n",
    "hp3 = diem_np_array[:, 2]  # Điểm HP3\n",
    "\n",
    "print(hp1, \"HP1\")\n",
    "print(hp2, \"HP2\")\n",
    "print(hp3, \"HP3\")\n"
   ]
  },
  {
   "cell_type": "markdown",
   "metadata": {},
   "source": [
    "### 4. Phân rích dữ liệu theo học phần"
   ]
  },
  {
   "cell_type": "code",
   "execution_count": 23,
   "metadata": {},
   "outputs": [
    {
     "name": "stdout",
     "output_type": "stream",
     "text": [
      "Phân tích điểm HP1:\n",
      "- Tổng điểm: 154.93\n",
      "- Điểm trung bình: 5.16\n",
      "- Độ lệch chuẩn: 2.41\n",
      "\n",
      "Phân tích điểm HP2:\n",
      "- Tổng điểm: 170.27\n",
      "- Điểm trung bình: 5.68\n",
      "- Độ lệch chuẩn: 2.25\n",
      "\n",
      "Phân tích điểm HP3:\n",
      "- Tổng điểm: 188.78\n",
      "- Điểm trung bình: 6.29\n",
      "- Độ lệch chuẩn: 1.81\n",
      "\n"
     ]
    }
   ],
   "source": [
    "# Hàm phân tích điểm số\n",
    "def phan_tich(scores, hp_name):\n",
    "    total = np.sum(scores)\n",
    "    mean = np.mean(scores)\n",
    "    std_dev = np.std(scores)\n",
    "    print(f\"Phân tích điểm {hp_name}:\")\n",
    "    print(f\"- Tổng điểm: {total:.2f}\")\n",
    "    print(f\"- Điểm trung bình: {mean:.2f}\")\n",
    "    print(f\"- Độ lệch chuẩn: {std_dev:.2f}\\n\")\n",
    "\n",
    "# Phân tích dữ liệu từng học phần\n",
    "phan_tich(hp1, \"HP1\")\n",
    "phan_tich(hp2, \"HP2\")\n",
    "phan_tich(hp3, \"HP3\")"
   ]
  },
  {
   "cell_type": "markdown",
   "metadata": {},
   "source": [
    "### 5.Phân tích điểm tổng hợp"
   ]
  },
  {
   "cell_type": "code",
   "execution_count": 24,
   "metadata": {},
   "outputs": [
    {
     "name": "stdout",
     "output_type": "stream",
     "text": [
      "Điểm chữ HP1: ['F', 'C', 'F', 'F', 'A']\n",
      "Điểm chữ HP2: ['F', 'C', 'F', 'A', 'A']\n",
      "Điểm chữ HP3: ['C+', 'C+', 'A', 'A', 'C']\n",
      "Phân tích số lượng sinh viên đạt từng loại điểm chữ trên tổng số học phần:\n",
      "- Điểm F: 28 lần xuất hiện\n",
      "- Điểm C: 14 lần xuất hiện\n",
      "- Điểm A: 15 lần xuất hiện\n",
      "- Điểm B: 4 lần xuất hiện\n",
      "- Điểm C+: 6 lần xuất hiện\n",
      "- Điểm B+: 7 lần xuất hiện\n",
      "- Điểm D: 10 lần xuất hiện\n",
      "- Điểm D+: 6 lần xuất hiện\n"
     ]
    }
   ],
   "source": [
    "# Quy đổi điểm số sang điểm chữ cho từng học phần\n",
    "grades_hp1 = [chuyen_diem(score) for score in hp1]\n",
    "grades_hp2 = [chuyen_diem(score) for score in hp2]\n",
    "grades_hp3 = [chuyen_diem(score) for score in hp3]\n",
    "\n",
    "# Hiển thị một phần để kiểm tra\n",
    "print(\"Điểm chữ HP1:\", grades_hp1[:5])\n",
    "print(\"Điểm chữ HP2:\", grades_hp2[:5])\n",
    "print(\"Điểm chữ HP3:\", grades_hp3[:5])\n",
    "\n",
    "# Kết hợp tất cả điểm chữ từ các học phần\n",
    "all_grades = grades_hp1 + grades_hp2 + grades_hp3  # Nối danh sách\n",
    "\n",
    "# Đếm số lượng từng loại điểm chữ\n",
    "grade_counts = {}\n",
    "for grade in all_grades:\n",
    "    if grade in grade_counts:\n",
    "        grade_counts[grade] += 1\n",
    "    else:\n",
    "        grade_counts[grade] = 1\n",
    "\n",
    "# Hiển thị kết quả phân tích\n",
    "print(\"Phân tích số lượng sinh viên đạt từng loại điểm chữ trên tổng số học phần:\")\n",
    "for grade, count in grade_counts.items():\n",
    "    print(f\"- Điểm {grade}: {count} lần xuất hiện\")"
   ]
  }
 ],
 "metadata": {
  "kernelspec": {
   "display_name": "Python 3",
   "language": "python",
   "name": "python3"
  },
  "language_info": {
   "codemirror_mode": {
    "name": "ipython",
    "version": 3
   },
   "file_extension": ".py",
   "mimetype": "text/x-python",
   "name": "python",
   "nbconvert_exporter": "python",
   "pygments_lexer": "ipython3",
   "version": "3.13.0"
  }
 },
 "nbformat": 4,
 "nbformat_minor": 2
}
