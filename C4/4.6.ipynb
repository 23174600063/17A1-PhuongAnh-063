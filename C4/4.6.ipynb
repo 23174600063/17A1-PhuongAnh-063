{
   "cells": [
      {
         "cell_type": "code",
         "execution_count": 6,
         "metadata": {},
         "outputs": [],
         "source": [
            "import pandas as pd\n",
            "import numpy as np"
         ]
      },
      {
         "cell_type": "markdown",
         "metadata": {},
         "source": [
            "### giải thích ý nghĩa đoạn code\n"
         ]
      },
      {
         "cell_type": "code",
         "execution_count": 7,
         "metadata": {},
         "outputs": [
            {
               "data": {
                  "text/plain": [
                     "0     a\n",
                     "1     g\n",
                     "2     a\n",
                     "3     f\n",
                     "4     e\n",
                     "5     a\n",
                     "6     a\n",
                     "7     c\n",
                     "8     a\n",
                     "9     f\n",
                     "10    f\n",
                     "11    h\n",
                     "12    e\n",
                     "13    d\n",
                     "14    a\n",
                     "15    c\n",
                     "16    d\n",
                     "17    f\n",
                     "18    d\n",
                     "19    b\n",
                     "20    d\n",
                     "21    a\n",
                     "22    c\n",
                     "23    h\n",
                     "24    c\n",
                     "25    f\n",
                     "26    g\n",
                     "27    f\n",
                     "28    e\n",
                     "29    c\n",
                     "dtype: object"
                  ]
               },
               "execution_count": 7,
               "metadata": {},
               "output_type": "execute_result"
            }
         ],
         "source": [
            "ser = pd.Series(np.take(list('abcdefgh'),np.random.randint(8,size=30)))\n",
            "ser"
         ]
      },
      {
         "cell_type": "markdown",
         "metadata": {},
         "source": [
            "### np.take : hàm dùng để lấy các phần tử có trong danh sách\n",
            "### list('abcdefgh') : để tạo một danh sách bao gồm các kí tự từ 'a' đến 'h'\n",
            "### np.random.randit(8,size=30) : tạo một mảng gồm 30 số ngẫu nhiên , mỗi số trông dãy sẽ nằm trong khoảng từ 0->7 ( vì 8 là giới hạn )\n",
            "### pd.Series: chuyển từ  mảng thành một series của pandas.\n"
         ]
      },
      {
         "cell_type": "markdown",
         "metadata": {},
         "source": [
            "### 2. Tính số lần xuất hiện của mỗi giá trị duy nhất trong ser"
         ]
      },
      {
         "cell_type": "code",
         "execution_count": 8,
         "metadata": {},
         "outputs": [
            {
               "data": {
                  "text/plain": [
                     "a    7\n",
                     "f    6\n",
                     "c    5\n",
                     "d    4\n",
                     "e    3\n",
                     "g    2\n",
                     "h    2\n",
                     "b    1\n",
                     "Name: count, dtype: int64"
                  ]
               },
               "execution_count": 8,
               "metadata": {},
               "output_type": "execute_result"
            }
         ],
         "source": [
            "ser.value_counts()\n"
         ]
      }
   ],
   "metadata": {
      "kernelspec": {
         "display_name": "Python 3",
         "language": "python",
         "name": "python3"
      },
      "language_info": {
         "codemirror_mode": {
            "name": "ipython",
            "version": 3
         },
         "file_extension": ".py",
         "mimetype": "text/x-python",
         "name": "python",
         "nbconvert_exporter": "python",
         "pygments_lexer": "ipython3",
         "version": "3.13.0"
      }
   },
   "nbformat": 4,
   "nbformat_minor": 2
}
