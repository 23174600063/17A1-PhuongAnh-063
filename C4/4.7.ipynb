{
 "cells": [
  {
   "cell_type": "markdown",
   "metadata": {},
   "source": [
    "### giữ nguyên hai phàn tử có tần suất cao nhất ( top 2 most frquent items) và thay thế tất cả các phần tử còn lại bằng giía trị 'Other'."
   ]
  },
  {
   "cell_type": "code",
   "execution_count": 2,
   "metadata": {},
   "outputs": [
    {
     "name": "stdout",
     "output_type": "stream",
     "text": [
      "chuỗi ban đầu: 0     1\n",
      "1     1\n",
      "2     4\n",
      "3     4\n",
      "4     4\n",
      "5     4\n",
      "6     1\n",
      "7     3\n",
      "8     3\n",
      "9     1\n",
      "10    3\n",
      "11    2\n",
      "dtype: int32\n",
      "\n",
      " Top 2 giá trị có tần suất cao nhất:  Index([1, 4], dtype='int32')\n",
      "\n",
      " chuỗi đã thay thế: 0         1\n",
      "1         1\n",
      "2         4\n",
      "3         4\n",
      "4         4\n",
      "5         4\n",
      "6         1\n",
      "7     Other\n",
      "8     Other\n",
      "9         1\n",
      "10    Other\n",
      "11    Other\n",
      "dtype: object\n"
     ]
    }
   ],
   "source": [
    "import pandas as pd\n",
    "import numpy as np\n",
    "\n",
    "np.random.seed(100)\n",
    "\n",
    "ser = pd.Series(np.random.randint(1,5,size=12))\n",
    "\n",
    "# tần suất của giá trị trong ser và chọn 2 giá trị có tần suất cao nhất.\n",
    "top2 = ser.value_counts().head(2).index\n",
    "\n",
    "# thay thay thế giá trị không phải là top 2 banwgf 'other'\n",
    "ser_modified = ser.apply(lambda x: x if x in top2 else 'Other')\n",
    "\n",
    "print(\"chuỗi ban đầu:\",ser)\n",
    "print(\"\\n Top 2 giá trị có tần suất cao nhất: \",top2)\n",
    "print(\"\\n chuỗi đã thay thế:\", ser_modified)\n",
    "\n",
    "\n"
   ]
  }
 ],
 "metadata": {
  "kernelspec": {
   "display_name": "Python 3",
   "language": "python",
   "name": "python3"
  },
  "language_info": {
   "codemirror_mode": {
    "name": "ipython",
    "version": 3
   },
   "file_extension": ".py",
   "mimetype": "text/x-python",
   "name": "python",
   "nbconvert_exporter": "python",
   "pygments_lexer": "ipython3",
   "version": "3.13.0"
  }
 },
 "nbformat": 4,
 "nbformat_minor": 2
}
